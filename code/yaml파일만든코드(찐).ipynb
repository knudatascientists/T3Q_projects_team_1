{
 "cells": [
  {
   "cell_type": "markdown",
   "source": [
    "## Module Loading"
   ],
   "metadata": {
    "collapsed": false,
    "pycharm": {
     "name": "#%% md\n"
    }
   }
  },
  {
   "cell_type": "code",
   "execution_count": 1,
   "outputs": [],
   "source": [
    "from glob import glob\n",
    "from sklearn.model_selection import train_test_split"
   ],
   "metadata": {
    "collapsed": false,
    "pycharm": {
     "name": "#%%\n"
    }
   }
  },
  {
   "cell_type": "markdown",
   "source": [
    "## Code"
   ],
   "metadata": {
    "collapsed": false,
    "pycharm": {
     "name": "#%% md\n"
    }
   }
  },
  {
   "cell_type": "code",
   "execution_count": 6,
   "outputs": [
    {
     "name": "stdout",
     "output_type": "stream",
     "text": [
      "Image 갯수: 2303\n"
     ]
    }
   ],
   "source": [
    "# 이미지 파일 리스트 생성\n",
    "train_img_list = glob(r'../data/DownsamplingData/TrainingData/folder/images/*.png')\n",
    "print(f'Image 갯수: {len(train_img_list)}')"
   ],
   "metadata": {
    "collapsed": false,
    "pycharm": {
     "name": "#%%\n"
    }
   }
  },
  {
   "cell_type": "code",
   "execution_count": 7,
   "outputs": [
    {
     "name": "stdout",
     "output_type": "stream",
     "text": [
      "Train Image 갯수: 1842\n",
      "Validation Image 갯수: 461\n"
     ]
    }
   ],
   "source": [
    "# train, validation 데이터 분리\n",
    "train_img_list, val_img_list = train_test_split(train_img_list,\n",
    "                                                  train_size=0.8,\n",
    "                                                  random_state=42)\n",
    "\n",
    "print(f'Train Image 갯수: {len(train_img_list)}')\n",
    "print(f'Validation Image 갯수: {len(val_img_list)}')"
   ],
   "metadata": {
    "collapsed": false,
    "pycharm": {
     "name": "#%%\n"
    }
   }
  },
  {
   "cell_type": "code",
   "execution_count": 8,
   "outputs": [],
   "source": [
    "# train/val 이미지 경로 txt파일로 저장\n",
    "with open(r'C:\\DataScience\\T3Q\\data\\DownsamplingData\\TrainingData\\train.txt', 'w') as f:\n",
    "    f.write('\\n'.join(train_img_list) + '\\n')\n",
    "\n",
    "with open(r'C:\\DataScience\\T3Q\\data\\DownsamplingData\\TrainingData\\val.txt', 'w') as f:\n",
    "    f.write('\\n'.join(val_img_list) + '\\n')"
   ],
   "metadata": {
    "collapsed": false,
    "pycharm": {
     "name": "#%%\n"
    }
   }
  },
  {
   "cell_type": "code",
   "execution_count": 9,
   "outputs": [
    {
     "name": "stdout",
     "output_type": "stream",
     "text": [
      "data.yaml 파일 정보: {'names': ['Animals(Dolls)', 'Person', 'Garbage bag & sacks', 'Construction signs & Parking prohibited board', 'Traffic cone', 'Box', 'Stones on road', 'Pothole on road', 'Filled pothole', 'Manhole'], 'nc': 10, 'train': 'C:\\\\DataScience\\\\T3Q\\\\data\\\\DownsamplingData\\\\TrainingData\\\\train.txt', 'val': 'C:\\\\DataScience\\\\T3Q\\\\data\\\\DownsamplingData\\\\TrainingData\\\\val.txt'}\n",
      "{'names': ['Animals(Dolls)', 'Person', 'Garbage bag & sacks', 'Construction signs & Parking prohibited board', 'Traffic cone', 'Box', 'Stones on road', 'Pothole on road', 'Filled pothole', 'Manhole'], 'nc': 10, 'train': 'C:\\\\DataScience\\\\T3Q\\\\data\\\\DownsamplingData\\\\TrainingData\\\\train.txt', 'val': 'C:\\\\DataScience\\\\T3Q\\\\data\\\\DownsamplingData\\\\TrainingData\\\\val.txt'}\n"
     ]
    }
   ],
   "source": [
    "# ymal 파일 정보 확인\n",
    "import yaml\n",
    "\n",
    "with open('C:\\DataScience\\T3Q\\data\\DownsamplingData\\TrainingData\\data.yaml', 'r') as f:\n",
    "    data = yaml.full_load(f)\n",
    "\n",
    "print(f'data.yaml 파일 정보: {data}')\n",
    "\n",
    "data['train'] = r'C:\\DataScience\\T3Q\\data\\DownsamplingData\\TrainingData\\train.txt'\n",
    "data['val'] = r'C:\\DataScience\\T3Q\\data\\DownsamplingData\\TrainingData\\val.txt'\n",
    "\n",
    "with open('C:\\DataScience\\T3Q\\data\\DownsamplingData\\TrainingData\\data.yaml', 'w') as f:\n",
    "    yaml.dump(data, f)\n",
    "\n",
    "print(data)"
   ],
   "metadata": {
    "collapsed": false,
    "pycharm": {
     "name": "#%%\n"
    }
   }
  },
  {
   "cell_type": "markdown",
   "source": [
    "## Model Training"
   ],
   "metadata": {
    "collapsed": false,
    "pycharm": {
     "name": "#%% md\n"
    }
   }
  },
  {
   "cell_type": "markdown",
   "source": [
    "cd C:\\DataScience\\T3Q\\yolo_v5\n",
    "\n",
    "python train.py --img 1280 --batch 16 --epochs 2 --data C:\\DataScience\\T3Q\\data\\DownsamplingData\\TrainingData\\data.yaml --cfg C:\\DataScience\\T3Q\\yolo_v5\\models\\yolov5s.yaml --weights yolov5s.pt --name train_yolov5s_results\n",
    "\n",
    "python detect.py --source 'C:\\DataScience\\T3Q\\data\\Pothole_dataset\\Pothole_test_2.mp4' --weights C:\\DataScience\\T3Q\\yolo_v5\\runs\\train\\pothole_yolov5s_results\\weights\\best.pt"
   ],
   "metadata": {
    "collapsed": false,
    "pycharm": {
     "name": "#%% md\n"
    }
   }
  },
  {
   "cell_type": "markdown",
   "source": [],
   "metadata": {
    "collapsed": false,
    "pycharm": {
     "name": "#%% md\n"
    }
   }
  }
 ],
 "metadata": {
  "kernelspec": {
   "display_name": "Python 3",
   "language": "python",
   "name": "python3"
  },
  "language_info": {
   "codemirror_mode": {
    "name": "ipython",
    "version": 2
   },
   "file_extension": ".py",
   "mimetype": "text/x-python",
   "name": "python",
   "nbconvert_exporter": "python",
   "pygments_lexer": "ipython2",
   "version": "2.7.6"
  }
 },
 "nbformat": 4,
 "nbformat_minor": 0
}