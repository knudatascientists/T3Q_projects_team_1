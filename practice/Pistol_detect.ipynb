{
 "cells": [
  {
   "cell_type": "markdown",
   "source": [
    "## Module Loading"
   ],
   "metadata": {
    "collapsed": false,
    "pycharm": {
     "name": "#%% md\n"
    }
   }
  },
  {
   "cell_type": "code",
   "execution_count": 12,
   "outputs": [],
   "source": [
    "from glob import glob"
   ],
   "metadata": {
    "collapsed": false,
    "pycharm": {
     "name": "#%%\n"
    }
   }
  },
  {
   "cell_type": "markdown",
   "source": [
    "## Code"
   ],
   "metadata": {
    "collapsed": false,
    "pycharm": {
     "name": "#%% md\n"
    }
   }
  },
  {
   "cell_type": "code",
   "execution_count": 13,
   "outputs": [
    {
     "name": "stdout",
     "output_type": "stream",
     "text": [
      "Image 갯수: 2971\n"
     ]
    }
   ],
   "source": [
    "# 이미지 파일 리스트 생성\n",
    "img_list = glob(r'../data/Pistol_dataset/export/images/*.jpg')\n",
    "print(f'Image 갯수: {len(img_list)}')"
   ],
   "metadata": {
    "collapsed": false,
    "pycharm": {
     "name": "#%%\n"
    }
   }
  },
  {
   "cell_type": "code",
   "execution_count": 14,
   "outputs": [
    {
     "name": "stdout",
     "output_type": "stream",
     "text": [
      "train_img_list 갯수: 2376, val_img_list 갯수: 595\n"
     ]
    }
   ],
   "source": [
    "# train/validation dataset 분리\n",
    "from sklearn.model_selection import train_test_split\n",
    "\n",
    "train_img_list, val_img_list = train_test_split(img_list,\n",
    "                                                test_size=0.2,\n",
    "                                                random_state=42)\n",
    "print(f'train_img_list 갯수: {len(train_img_list)}, val_img_list 갯수: {len(val_img_list)}')"
   ],
   "metadata": {
    "collapsed": false,
    "pycharm": {
     "name": "#%%\n"
    }
   }
  },
  {
   "cell_type": "code",
   "execution_count": 16,
   "outputs": [],
   "source": [
    "# train/val 이미지 경로 txt파일로 저장\n",
    "with open(r'../data/Pistol_dataset/train.txt', 'w') as f:\n",
    "    f.write('\\n'.join(train_img_list) + '\\n')\n",
    "\n",
    "with open(r'../data/Pistol_dataset/val.txt', 'w') as f:\n",
    "    f.write('\\n'.join(val_img_list) + '\\n')"
   ],
   "metadata": {
    "collapsed": false,
    "pycharm": {
     "name": "#%%\n"
    }
   }
  },
  {
   "cell_type": "code",
   "execution_count": 25,
   "outputs": [
    {
     "name": "stdout",
     "output_type": "stream",
     "text": [
      "data.yaml 파일 정보: {'train': '../train/images', 'val': '../valid/images', 'nc': 1, 'names': ['pistol']}\n",
      "{'train': '../data/Pistol_dataset/train.txt', 'val': '../data/Pistol_dataset/val.txt', 'nc': 1, 'names': ['pistol']}\n"
     ]
    }
   ],
   "source": [
    "# ymal 파일 정보 확인\n",
    "import yaml\n",
    "\n",
    "with open('../data/Pistol_dataset/data.yaml', 'r') as f:\n",
    "    data = yaml.full_load(f)\n",
    "\n",
    "print(f'data.yaml 파일 정보: {data}')\n",
    "\n",
    "data['train'] = r'../data/Pistol_dataset/train.txt'\n",
    "data['val'] = r'../data/Pistol_dataset/val.txt'\n",
    "\n",
    "with open('../data/Pistol_dataset/data.yaml', 'w') as f:\n",
    "    yaml.dump(data, f)\n",
    "\n",
    "print(data)"
   ],
   "metadata": {
    "collapsed": false,
    "pycharm": {
     "name": "#%%\n"
    }
   }
  },
  {
   "cell_type": "markdown",
   "source": [
    "## Model Training"
   ],
   "metadata": {
    "collapsed": false,
    "pycharm": {
     "name": "#%% md\n"
    }
   }
  },
  {
   "cell_type": "markdown",
   "source": [
    "cd C:\\DataScience\\T3Q\\yolo_v5\n",
    "python train.py --img 416 --batch 16 --epochs 50 --data C:\\DataScience\\T3Q\\data\\Pistol_dataset\\data.yaml --cfg C:\\DataScience\\T3Q\\yolo_v5\\models\\yolov5s.yaml --weights yolov5s.pt --name gun_yolov5s_results"
   ],
   "metadata": {
    "collapsed": false,
    "pycharm": {
     "name": "#%% md\n"
    }
   }
  }
 ],
 "metadata": {
  "kernelspec": {
   "display_name": "Python 3",
   "language": "python",
   "name": "python3"
  },
  "language_info": {
   "codemirror_mode": {
    "name": "ipython",
    "version": 2
   },
   "file_extension": ".py",
   "mimetype": "text/x-python",
   "name": "python",
   "nbconvert_exporter": "python",
   "pygments_lexer": "ipython2",
   "version": "2.7.6"
  }
 },
 "nbformat": 4,
 "nbformat_minor": 0
}